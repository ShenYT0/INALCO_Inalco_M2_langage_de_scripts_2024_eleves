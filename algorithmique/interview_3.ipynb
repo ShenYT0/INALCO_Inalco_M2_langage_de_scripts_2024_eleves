{
  "cells": [
    {
      "cell_type": "markdown",
      "metadata": {
        "colab_type": "text",
        "id": "view-in-github"
      },
      "source": [
        "<a href=\"https://colab.research.google.com/github/Dinarque/INALCO_Inalco_M2_langage_de_scripts_2024_eleves/blob/main/algorithmique/interview_3.ipynb\" target=\"_parent\"><img src=\"https://colab.research.google.com/assets/colab-badge.svg\" alt=\"Open In Colab\"/></a>"
      ]
    },
    {
      "cell_type": "markdown",
      "metadata": {
        "id": "S0pp9vkSJhnt"
      },
      "source": [
        "# Interview 3\n",
        "\n",
        "Longest Palindromic Substring\n",
        "\n",
        "Given a string s, return the longest  palindromicsubstring in s.\n",
        "\n",
        "NB ; un palindrome est un mot qui peut se lire dans les deux sens, comme CIC, Ressasser ..."
      ]
    },
    {
      "cell_type": "code",
      "execution_count": 1,
      "metadata": {
        "id": "F305n1BEMNfd"
      },
      "outputs": [],
      "source": [
        "s1 = \"iressasser\"\n",
        "s2 = \"babad\"\n",
        "s3 =  \"cbbd\"\n",
        "s4 = \"a\""
      ]
    },
    {
      "cell_type": "markdown",
      "metadata": {
        "id": "5s8YWhzWMC3F"
      },
      "source": [
        "# Solution 1 : bourrin\n",
        "\n",
        "on parcourt la liste deux fois et fais le test du palindrome sur toutes les substrings possibles"
      ]
    },
    {
      "cell_type": "code",
      "execution_count": 35,
      "metadata": {
        "id": "lPmQ2jFvJfhp"
      },
      "outputs": [],
      "source": [
        "def is_palindrome(substring):\n",
        "\n",
        "            for i in range(len(substring)) :\n",
        "                if substring[i] != substring[-(i+1)] :\n",
        "                    return False\n",
        "\n",
        "            return True\n",
        "\n",
        "def longestPalindrome( s):\n",
        "\n",
        "        longest = 0\n",
        "        longest_substring = \"\"\n",
        "\n",
        "        for i in range(len(s)+1) :\n",
        "            for j in range(i,len(s)+1) :\n",
        "                substring = s[i:j]\n",
        "\n",
        "                if is_palindrome(substring):\n",
        "\n",
        "                    if len(substring)>longest :\n",
        "                      longest =  len(substring)\n",
        "                      longest_substring = substring\n",
        "\n",
        "        print(longest_substring)\n",
        "        return longest_substring"
      ]
    },
    {
      "cell_type": "code",
      "execution_count": 36,
      "metadata": {
        "colab": {
          "base_uri": "https://localhost:8080/",
          "height": 105
        },
        "id": "IRTnwApsMjCC",
        "outputId": "21a47f85-3c7c-493a-efa0-1232405a0a43"
      },
      "outputs": [
        {
          "name": "stdout",
          "output_type": "stream",
          "text": [
            "ressasser\n",
            "bab\n",
            "bb\n",
            "a\n"
          ]
        },
        {
          "data": {
            "application/vnd.google.colaboratory.intrinsic+json": {
              "type": "string"
            },
            "text/plain": [
              "'a'"
            ]
          },
          "execution_count": 36,
          "metadata": {},
          "output_type": "execute_result"
        }
      ],
      "source": [
        "longestPalindrome(s1)\n",
        "longestPalindrome(s2)\n",
        "longestPalindrome(s3)\n",
        "longestPalindrome(s4)"
      ]
    },
    {
      "cell_type": "markdown",
      "metadata": {
        "id": "GnVbNhQaOus5"
      },
      "source": [
        "Bien mais vraiment long : leetcode a refusé ma solution pour timeout ... on va devoir trouver mieux !\n",
        "Complexité O(n3)"
      ]
    },
    {
      "cell_type": "markdown",
      "metadata": {
        "id": "XpHZZYhOPT2C"
      },
      "source": [
        "# solution 2\n",
        "\n",
        "résuire la complexité à n2 avec les astuces vues dans le problème 2"
      ]
    },
    {
      "cell_type": "code",
      "execution_count": 39,
      "metadata": {
        "id": "dw3Ougv2O1uq"
      },
      "outputs": [],
      "source": [
        "def is_palindrome(substring):\n",
        "    #  Inutile de faire le test deux fois\n",
        "    for i in range(len(substring) // 2):\n",
        "        if substring[i] != substring[-(i+1)]:\n",
        "            return False\n",
        "    return True\n",
        "\n",
        "def longestPalindrome(s):\n",
        "    n = len(s)\n",
        "    longest_substring = \"\"\n",
        "\n",
        "    # Nested loop to check all substrings\n",
        "    for i in range(n):\n",
        "        for j in range(i, n):\n",
        "            substring = s[i:j+1]\n",
        "\n",
        "            # Check if the current substring is a palindrome\n",
        "            if is_palindrome(substring):\n",
        "\n",
        "                if len(substring) > len(longest_substring):\n",
        "                    longest_substring = substring\n",
        "\n",
        "    print(longest_substring)\n",
        "    return longest_substring"
      ]
    },
    {
      "cell_type": "code",
      "execution_count": 40,
      "metadata": {
        "colab": {
          "base_uri": "https://localhost:8080/"
        },
        "id": "STvg6sgJOty1",
        "outputId": "921b17a6-9991-44ae-b030-91b3768c22b8"
      },
      "outputs": [
        {
          "name": "stdout",
          "output_type": "stream",
          "text": [
            "Longest palindrome substring is: ressasser\n",
            "Longest palindrome substring is: bab\n",
            "Longest palindrome substring is: bb\n",
            "Longest palindrome substring is: a\n"
          ]
        },
        {
          "data": {
            "text/plain": [
              "1"
            ]
          },
          "execution_count": 40,
          "metadata": {},
          "output_type": "execute_result"
        }
      ],
      "source": [
        "longestPalindrome(s1)\n",
        "longestPalindrome(s2)\n",
        "longestPalindrome(s3)\n",
        "longestPalindrome(s4)"
      ]
    },
    {
      "cell_type": "markdown",
      "metadata": {
        "id": "KZYeh1UDSAVC"
      },
      "source": [
        "Mieux ! mais pas encore ça !"
      ]
    },
    {
      "cell_type": "markdown",
      "metadata": {
        "id": "_gDJ6wIUPo_f"
      },
      "source": [
        "# Solution  3 : penser autour du centre"
      ]
    },
    {
      "cell_type": "code",
      "execution_count": 48,
      "metadata": {
        "id": "7Wghi40iSK-N"
      },
      "outputs": [],
      "source": [
        "def expand_around_center(s, left, right):\n",
        "          # renvoie le plus long palindrome à partir d un caractere , O(n)\n",
        "            while left >= 0 and right < len(s) and s[left] == s[right]:\n",
        "                left -= 1\n",
        "                right += 1\n",
        "            return s[left + 1:right]\n",
        "\n",
        "\n",
        "def longestPalindrome( s):\n",
        "\n",
        "        if not s:\n",
        "            return \"\"\n",
        "\n",
        "        longest_substring = \"\"\n",
        "\n",
        "        for i in range(len(s)):\n",
        "            # distinction des cas pairs et impairs\n",
        "            odd_palindrome = expand_around_center(s,i, i)\n",
        "            even_palindrome = expand_around_center(s,i, i + 1)\n",
        "\n",
        "            longest_substring = max(longest_substring, odd_palindrome, even_palindrome, key=len)\n",
        "\n",
        "        print(longest_substring)\n",
        "        return longest_substring\n"
      ]
    },
    {
      "cell_type": "code",
      "execution_count": 49,
      "metadata": {
        "colab": {
          "base_uri": "https://localhost:8080/",
          "height": 105
        },
        "id": "D0rxVVu0SqlM",
        "outputId": "3fe26ad0-9446-44a3-9837-8a283468fe4c"
      },
      "outputs": [
        {
          "name": "stdout",
          "output_type": "stream",
          "text": [
            "ressasser\n",
            "bab\n",
            "bb\n",
            "a\n"
          ]
        },
        {
          "data": {
            "application/vnd.google.colaboratory.intrinsic+json": {
              "type": "string"
            },
            "text/plain": [
              "'a'"
            ]
          },
          "execution_count": 49,
          "metadata": {},
          "output_type": "execute_result"
        }
      ],
      "source": [
        "longestPalindrome(s1)\n",
        "longestPalindrome(s2)\n",
        "longestPalindrome(s3)\n",
        "longestPalindrome(s4)"
      ]
    },
    {
      "cell_type": "markdown",
      "metadata": {
        "id": "Qif06K_yS4Vm"
      },
      "source": [
        "Complexite O(n2)"
      ]
    },
    {
      "cell_type": "code",
      "execution_count": 2,
      "metadata": {},
      "outputs": [
        {
          "name": "stdout",
          "output_type": "stream",
          "text": [
            "ressasser\n",
            "bab\n",
            "bb\n",
            "a\n"
          ]
        }
      ],
      "source": [
        "def manacher_longestPalindrome(s:str) -> int:\n",
        "    s = '#' + '#'.join(s) + '#'\n",
        "    p = [0] * len(s)\n",
        "    MaxRight = 0\n",
        "    pos = 0\n",
        "    MaxLen = 0\n",
        "    for i in range(len(s)):\n",
        "        if i < MaxRight:\n",
        "            p[i] = min(p[2 * pos - i], MaxRight - i)\n",
        "        else:\n",
        "            p[i] = 1\n",
        "        while i - p[i] >= 0 and i + p[i] < len(s) and s[i - p[i]] == s[i + p[i]]:\n",
        "            p[i] += 1\n",
        "        if p[i] + i - 1 > MaxRight:\n",
        "            MaxRight = p[i] + i - 1\n",
        "            pos = i\n",
        "        MaxLen = max(MaxLen, p[i])\n",
        "    \n",
        "    for i in range(len(p)):\n",
        "        if p[i] == MaxLen:\n",
        "            return s[i - p[i] + 1:i + p[i]].replace('#', '')\n",
        "        \n",
        "print(manacher_longestPalindrome(s1))\n",
        "print(manacher_longestPalindrome(s2))\n",
        "print(manacher_longestPalindrome(s3))\n",
        "print(manacher_longestPalindrome(s4))"
      ]
    }
  ],
  "metadata": {
    "colab": {
      "authorship_tag": "ABX9TyOCK6cKLCQrF4+B7PPMl3tN",
      "include_colab_link": true,
      "provenance": []
    },
    "kernelspec": {
      "display_name": "Python 3",
      "name": "python3"
    },
    "language_info": {
      "codemirror_mode": {
        "name": "ipython",
        "version": 3
      },
      "file_extension": ".py",
      "mimetype": "text/x-python",
      "name": "python",
      "nbconvert_exporter": "python",
      "pygments_lexer": "ipython3",
      "version": "3.10.12"
    }
  },
  "nbformat": 4,
  "nbformat_minor": 0
}
