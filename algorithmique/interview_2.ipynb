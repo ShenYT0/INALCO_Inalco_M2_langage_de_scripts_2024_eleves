{
  "cells": [
    {
      "cell_type": "markdown",
      "metadata": {
        "colab_type": "text",
        "id": "view-in-github"
      },
      "source": [
        "<a href=\"https://colab.research.google.com/github/Dinarque/INALCO_Inalco_M2_langage_de_scripts_2024_eleves/blob/main/algorithmique/interview_2.ipynb\" target=\"_parent\"><img src=\"https://colab.research.google.com/assets/colab-badge.svg\" alt=\"Open In Colab\"/></a>"
      ]
    },
    {
      "cell_type": "markdown",
      "metadata": {
        "id": "37YD8PTw9QWu"
      },
      "source": [
        "# Interview 2\n",
        "\n",
        "Given a string s, find the length of the longest\n",
        "substring without repeating characters.\n",
        "\n"
      ]
    },
    {
      "cell_type": "code",
      "execution_count": 1,
      "metadata": {
        "id": "kb4y2J2O9X1J"
      },
      "outputs": [],
      "source": [
        "s1 = \"abcabcbb\"\n",
        "s2 = \"bbbbb\"\n",
        "s3 = \"pwwkew\""
      ]
    },
    {
      "cell_type": "markdown",
      "metadata": {
        "id": "hu43djNl9WcM"
      },
      "source": [
        "# solution 1 :\n",
        "\n",
        "utiliser des compteurs\n",
        "parcourir la liste une seule fois\n",
        "avoir une variable représentant la sous chaîne de caractère"
      ]
    },
    {
      "cell_type": "code",
      "execution_count": 2,
      "metadata": {
        "id": "bBvhwLLb9Vza"
      },
      "outputs": [],
      "source": [
        "def longest_substring(s) :\n",
        "\n",
        "\n",
        "  longest = 0\n",
        "  current = 0\n",
        "  current_substring = []\n",
        "  longest_substring = []\n",
        "\n",
        "  # un seul parcours de la chaîne\n",
        "\n",
        "  for i,  car in enumerate(s) :\n",
        "    # cas simples : si la nouvelle lettre qu'on lit est différente on allonge notre string\n",
        "    if car not in current_substring :\n",
        "      current_substring.append(car)\n",
        "      current += 1\n",
        "\n",
        "    else :\n",
        "        current_substring = current_substring[i+1:]\n",
        "        current_substring.append(car)\n",
        "        current = len(current_substring)\n",
        "\n",
        "    if current > longest :\n",
        "      longest = current\n",
        "      longest_substring = current_substring\n",
        "\n",
        "  print(longest_substring)\n",
        "  return longest\n",
        "\n",
        "\n"
      ]
    },
    {
      "cell_type": "code",
      "execution_count": 3,
      "metadata": {
        "colab": {
          "base_uri": "https://localhost:8080/"
        },
        "id": "Z0go4DpE-_ax",
        "outputId": "e8944ce7-ea3a-4aa1-affc-b377eb44cefa"
      },
      "outputs": [
        {
          "name": "stdout",
          "output_type": "stream",
          "text": [
            "['a', 'b', 'c']\n",
            "['b']\n",
            "['w', 'k', 'e']\n"
          ]
        },
        {
          "data": {
            "text/plain": [
              "3"
            ]
          },
          "execution_count": 3,
          "metadata": {},
          "output_type": "execute_result"
        }
      ],
      "source": [
        "longest_substring(s1)\n",
        "longest_substring(s2)\n",
        "longest_substring(s3)"
      ]
    },
    {
      "cell_type": "markdown",
      "metadata": {
        "id": "Jc60ikN2_yS1"
      },
      "source": [
        "avantage : permet de renvoyer la chaîne la plus longue aussi\n",
        "inconvénient : pas optimal en terme de structure de données"
      ]
    },
    {
      "cell_type": "markdown",
      "metadata": {
        "id": "8C_bgq99-7yY"
      },
      "source": [
        "# solution 2\n",
        "\n",
        "utiliser un dictionnaire d'index"
      ]
    },
    {
      "cell_type": "code",
      "execution_count": 4,
      "metadata": {
        "id": "bpfWecQO9AY_"
      },
      "outputs": [],
      "source": [
        "def longest_substring_2(s):\n",
        "\n",
        "  char_to_index = dict()\n",
        "  left_index = 0\n",
        "  longest = 0\n",
        "\n",
        "  for right, char in enumerate(s):\n",
        "\n",
        "    if char in char_to_index and char_to_index[char]>= left_index :\n",
        "      left_index = char_to_index[char] + 1 # on décale le début de la nouvelle sous chaîne si on repère un doublon\n",
        "\n",
        "    char_to_index[char]  = right\n",
        "    longest = max(longest, right-left_index+1 )\n",
        "\n",
        "  return longest"
      ]
    },
    {
      "cell_type": "code",
      "execution_count": 5,
      "metadata": {
        "colab": {
          "base_uri": "https://localhost:8080/"
        },
        "id": "NxGSmi69B1-x",
        "outputId": "7326a5ab-3bcf-4e54-89d3-81fdd3f7a661"
      },
      "outputs": [
        {
          "data": {
            "text/plain": [
              "3"
            ]
          },
          "execution_count": 5,
          "metadata": {},
          "output_type": "execute_result"
        }
      ],
      "source": [
        "longest_substring_2(s1)\n",
        "longest_substring_2(s2)\n",
        "longest_substring_2(s3)"
      ]
    },
    {
      "cell_type": "markdown",
      "metadata": {
        "id": "sJx5dEGvC9nk"
      },
      "source": [
        "avantage : complexité\n",
        "\n",
        "plein de variations avec des listes, set ... suivant la même idée\n",
        "\n",
        "inconvénient : on perd la string"
      ]
    },
    {
      "cell_type": "markdown",
      "metadata": {
        "id": "F-wsUG38DIW3"
      },
      "source": [
        "# solution 3 : make it pop"
      ]
    },
    {
      "cell_type": "code",
      "execution_count": 6,
      "metadata": {
        "id": "GXtS8kBjDK6j"
      },
      "outputs": [],
      "source": [
        "def longest_substring_3(s):\n",
        "    longest = 0\n",
        "    q = []\n",
        "    for char in s:\n",
        "        if char in q:\n",
        "            while q.pop(0) != char:\n",
        "                pass #si on repère un doublon on éliminé tout ce qui était avant la chaîne  avec pop\n",
        "        q.append(char) # sinon on continue de lire la chaîne caractère par caractère\n",
        "        longest = max(longest, len(q))\n",
        "\n",
        "    return longest"
      ]
    },
    {
      "cell_type": "code",
      "execution_count": 7,
      "metadata": {
        "colab": {
          "base_uri": "https://localhost:8080/"
        },
        "id": "aDhtzWVlD8_m",
        "outputId": "9b122ed7-98c8-464a-b7a5-e5ccc551610f"
      },
      "outputs": [
        {
          "data": {
            "text/plain": [
              "3"
            ]
          },
          "execution_count": 7,
          "metadata": {},
          "output_type": "execute_result"
        }
      ],
      "source": [
        "longest_substring_3(s1)\n",
        "longest_substring_3(s2)\n",
        "longest_substring_3(s3)"
      ]
    },
    {
      "cell_type": "markdown",
      "metadata": {
        "id": "5hQ3YAAXEOFG"
      },
      "source": [
        "avantages : on connait la chaine\n",
        "complexité\n",
        "je trouve ça élégant, ça tient en 5 lignes"
      ]
    }
  ],
  "metadata": {
    "colab": {
      "authorship_tag": "ABX9TyOx+iLaMeGZqMJaVbi+Vs32",
      "include_colab_link": true,
      "provenance": []
    },
    "kernelspec": {
      "display_name": "Python 3",
      "name": "python3"
    },
    "language_info": {
      "codemirror_mode": {
        "name": "ipython",
        "version": 3
      },
      "file_extension": ".py",
      "mimetype": "text/x-python",
      "name": "python",
      "nbconvert_exporter": "python",
      "pygments_lexer": "ipython3",
      "version": "3.10.12"
    }
  },
  "nbformat": 4,
  "nbformat_minor": 0
}
