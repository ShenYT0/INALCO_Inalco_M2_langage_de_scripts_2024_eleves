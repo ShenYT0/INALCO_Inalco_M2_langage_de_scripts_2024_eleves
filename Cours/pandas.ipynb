{
  "cells": [
    {
      "cell_type": "markdown",
      "metadata": {
        "colab_type": "text",
        "id": "view-in-github"
      },
      "source": [
        "<a href=\"https://colab.research.google.com/github/Dinarque/INALCO_Inalco_M2_langage_de_scripts_2024_eleves/blob/main/Cours/pandas.ipynb\" target=\"_parent\"><img src=\"https://colab.research.google.com/assets/colab-badge.svg\" alt=\"Open In Colab\"/></a>"
      ]
    },
    {
      "cell_type": "markdown",
      "metadata": {
        "id": "2w4f1hXlTSTW"
      },
      "source": [
        "Quelques exercices et mse en pratique du cours sur pandas"
      ]
    },
    {
      "cell_type": "markdown",
      "metadata": {
        "id": "N7KxhYnBTZ_R"
      },
      "source": [
        "# I) Les exemples du cours"
      ]
    },
    {
      "cell_type": "code",
      "execution_count": 1,
      "metadata": {
        "colab": {
          "base_uri": "https://localhost:8080/"
        },
        "id": "FXJZy6wWTPlc",
        "outputId": "a0cdc3ae-6289-44e2-9759-973a9ba62f70"
      },
      "outputs": [
        {
          "name": "stdout",
          "output_type": "stream",
          "text": [
            "       Nom Classe  Mathématiques  Physique  Informatique  Anglais\n",
            "0    Alice     1A             15        13            18       14\n",
            "1      Bob     1A             12        14            16       13\n",
            "2  Charlie     1B              9        11            12       15\n",
            "3    David     1B             14        10            15       12\n",
            "4     Emma     1A             16        17            19       16\n",
            "1. Affichage des premières lignes :\n",
            "       Nom Classe  Mathématiques  Physique  Informatique  Anglais\n",
            "0    Alice     1A             15        13            18       14\n",
            "1      Bob     1A             12        14            16       13\n",
            "2  Charlie     1B              9        11            12       15\n",
            "3    David     1B             14        10            15       12\n",
            "4     Emma     1A             16        17            19       16\n",
            "\n",
            "2. Informations sur le DataFrame :\n",
            "<class 'pandas.core.frame.DataFrame'>\n",
            "RangeIndex: 5 entries, 0 to 4\n",
            "Data columns (total 6 columns):\n",
            " #   Column         Non-Null Count  Dtype \n",
            "---  ------         --------------  ----- \n",
            " 0   Nom            5 non-null      object\n",
            " 1   Classe         5 non-null      object\n",
            " 2   Mathématiques  5 non-null      int64 \n",
            " 3   Physique       5 non-null      int64 \n",
            " 4   Informatique   5 non-null      int64 \n",
            " 5   Anglais        5 non-null      int64 \n",
            "dtypes: int64(4), object(2)\n",
            "memory usage: 368.0+ bytes\n",
            "None\n",
            "\n",
            "3. Statistiques descriptives :\n",
            "       Mathématiques   Physique  Informatique    Anglais\n",
            "count       5.000000   5.000000      5.000000   5.000000\n",
            "mean       13.200000  13.000000     16.000000  14.000000\n",
            "std         2.774887   2.738613      2.738613   1.581139\n",
            "min         9.000000  10.000000     12.000000  12.000000\n",
            "25%        12.000000  11.000000     15.000000  13.000000\n",
            "50%        14.000000  13.000000     16.000000  14.000000\n",
            "75%        15.000000  14.000000     18.000000  15.000000\n",
            "max        16.000000  17.000000     19.000000  16.000000\n",
            "\n",
            "4. Sélection de la colonne 'Mathématiques' :\n",
            "0    15\n",
            "1    12\n",
            "2     9\n",
            "3    14\n",
            "4    16\n",
            "Name: Mathématiques, dtype: int64\n",
            "\n",
            "5. Sélection de la ligne de l'élève 'Alice' :\n",
            "     Nom Classe  Mathématiques  Physique  Informatique  Anglais\n",
            "0  Alice     1A             15        13            18       14\n",
            "\n",
            "6. Élèves ayant une note supérieure à 15 en Informatique :\n",
            "     Nom Classe  Mathématiques  Physique  Informatique  Anglais\n",
            "0  Alice     1A             15        13            18       14\n",
            "1    Bob     1A             12        14            16       13\n",
            "4   Emma     1A             16        17            19       16\n",
            "\n",
            "7. Ajout d'une colonne 'Moyenne' :\n",
            "       Nom Classe  Mathématiques  Physique  Informatique  Anglais  Moyenne\n",
            "0    Alice     1A             15        13            18       14    15.00\n",
            "1      Bob     1A             12        14            16       13    13.75\n",
            "2  Charlie     1B              9        11            12       15    11.75\n",
            "3    David     1B             14        10            15       12    12.75\n",
            "4     Emma     1A             16        17            19       16    17.00\n",
            "\n",
            "8. Trier les élèves par moyenne décroissante :\n",
            "       Nom Classe  Mathématiques  Physique  Informatique  Anglais  Moyenne\n",
            "4     Emma     1A             16        17            19       16    17.00\n",
            "0    Alice     1A             15        13            18       14    15.00\n",
            "1      Bob     1A             12        14            16       13    13.75\n",
            "3    David     1B             14        10            15       12    12.75\n",
            "2  Charlie     1B              9        11            12       15    11.75\n",
            "\n",
            "9. Le tableau a été sauvegardé dans 'notes_eleves.csv'.\n"
          ]
        }
      ],
      "source": [
        "import pandas as pd\n",
        "\n",
        "# Créer un DataFrame de notes d'élèves\n",
        "data = {\n",
        "    'Nom': ['Alice', 'Bob', 'Charlie', 'David', 'Emma'],\n",
        "    'Classe': ['1A', '1A', '1B', '1B', '1A'],\n",
        "    'Mathématiques': [15, 12, 9, 14, 16],\n",
        "    'Physique': [13, 14, 11, 10, 17],\n",
        "    'Informatique': [18, 16, 12, 15, 19],\n",
        "    'Anglais': [14, 13, 15, 12, 16]\n",
        "}\n",
        "\n",
        "df_notes = pd.DataFrame(data)\n",
        "\n",
        "# Afficher la table des notes\n",
        "print(df_notes)\n",
        "\n",
        "\n",
        "# Afficher les premières lignes du DataFrame\n",
        "print(\"1. Affichage des premières lignes :\")\n",
        "print(df_notes.head())\n",
        "\n",
        "# Afficher des informations sur le DataFrame\n",
        "print(\"\\n2. Informations sur le DataFrame :\")\n",
        "print(df_notes.info())\n",
        "\n",
        "# Calculer des statistiques descriptives\n",
        "print(\"\\n3. Statistiques descriptives :\")\n",
        "print(df_notes.describe())\n",
        "\n",
        "# Sélectionner une colonne\n",
        "print(\"\\n4. Sélection de la colonne 'Mathématiques' :\")\n",
        "print(df_notes['Mathématiques'])\n",
        "\n",
        "# Sélectionner une ligne par son index (par exemple, l'élève Alice)\n",
        "print(\"\\n5. Sélection de la ligne de l'élève 'Alice' :\")\n",
        "print(df_notes.loc[df_notes['Nom'] == 'Alice'])\n",
        "\n",
        "# Filtrer les élèves qui ont une note supérieure à 15 en Informatique\n",
        "print(\"\\n6. Élèves ayant une note supérieure à 15 en Informatique :\")\n",
        "print(df_notes[df_notes['Informatique'] > 15])\n",
        "\n",
        "# Ajouter une nouvelle colonne avec la moyenne des notes\n",
        "df_notes['Moyenne'] = df_notes[['Mathématiques', 'Physique', 'Informatique', 'Anglais']].mean(axis=1)\n",
        "print(\"\\n7. Ajout d'une colonne 'Moyenne' :\")\n",
        "print(df_notes)\n",
        "\n",
        "# Trier les élèves par leur moyenne\n",
        "df_notes_sorted = df_notes.sort_values(by='Moyenne', ascending=False)\n",
        "print(\"\\n8. Trier les élèves par moyenne décroissante :\")\n",
        "print(df_notes_sorted)\n",
        "\n",
        "# Enregistrer le DataFrame dans un fichier CSV\n",
        "df_notes.to_csv('notes_eleves.csv', index=False)\n",
        "print(\"\\n9. Le tableau a été sauvegardé dans 'notes_eleves.csv'.\")"
      ]
    },
    {
      "cell_type": "code",
      "execution_count": 2,
      "metadata": {
        "colab": {
          "base_uri": "https://localhost:8080/",
          "height": 443
        },
        "id": "qChhk-2RXy5I",
        "outputId": "ccb62158-682d-4e66-d622-fc38a254e8c9"
      },
      "outputs": [
        {
          "name": "stdout",
          "output_type": "stream",
          "text": [
            "        Mathématiques   Physique  Informatique    Anglais  Moyenne\n",
            "Classe                                                            \n",
            "1A          14.333333  14.666667     17.666667  14.333333    15.25\n",
            "1B          11.500000  10.500000     13.500000  13.500000    12.25\n"
          ]
        }
      ],
      "source": [
        "# Grouper les élèves par classe et calculer la moyenne des notes\n",
        "grouped = df_notes.groupby('Classe').mean()\n",
        "\n",
        "print(grouped)"
      ]
    },
    {
      "cell_type": "code",
      "execution_count": 3,
      "metadata": {
        "colab": {
          "base_uri": "https://localhost:8080/"
        },
        "id": "RnmCY6evYtAk",
        "outputId": "bb529f54-40b1-48db-ae25-3a3ba931a2b5"
      },
      "outputs": [
        {
          "name": "stdout",
          "output_type": "stream",
          "text": [
            "1A    3\n",
            "1B    2\n",
            "Name: Classe, dtype: int64\n"
          ]
        }
      ],
      "source": [
        "# Utilisation de value_counts() pour compter le nombre d'élèves par classe\n",
        "classe_counts = df_notes['Classe'].value_counts()\n",
        "\n",
        "print(classe_counts)"
      ]
    }
  ],
  "metadata": {
    "colab": {
      "authorship_tag": "ABX9TyPOz34q1tUm+UoQCNkqh+Wf",
      "include_colab_link": true,
      "provenance": []
    },
    "kernelspec": {
      "display_name": "Python 3",
      "name": "python3"
    },
    "language_info": {
      "codemirror_mode": {
        "name": "ipython",
        "version": 3
      },
      "file_extension": ".py",
      "mimetype": "text/x-python",
      "name": "python",
      "nbconvert_exporter": "python",
      "pygments_lexer": "ipython3",
      "version": "3.10.12"
    }
  },
  "nbformat": 4,
  "nbformat_minor": 0
}
