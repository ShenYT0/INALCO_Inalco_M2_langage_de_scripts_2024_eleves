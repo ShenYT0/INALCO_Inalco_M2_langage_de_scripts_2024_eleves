{
  "cells": [
    {
      "cell_type": "markdown",
      "metadata": {
        "colab_type": "text",
        "id": "view-in-github"
      },
      "source": [
        "<a href=\"https://colab.research.google.com/github/Dinarque/INALCO_Inalco_M2_langage_de_scripts_2024_eleves/blob/main/Cours/exercices_pythonismes.ipynb\" target=\"_parent\"><img src=\"https://colab.research.google.com/assets/colab-badge.svg\" alt=\"Open In Colab\"/></a>"
      ]
    },
    {
      "cell_type": "markdown",
      "metadata": {
        "id": "sP2QqqX_eNpN"
      },
      "source": [
        "# Python tricks : quelques exercices d'application"
      ]
    },
    {
      "cell_type": "markdown",
      "metadata": {
        "id": "jaYme2freOhI"
      },
      "source": [
        "Créez une liste de 100 éléments qui contient les chiffres de 1 à 4 qui se répètenet en boucle"
      ]
    },
    {
      "cell_type": "code",
      "execution_count": 1,
      "metadata": {
        "id": "SimuWMrtVpKM"
      },
      "outputs": [
        {
          "name": "stdout",
          "output_type": "stream",
          "text": [
            "100\n",
            "[1, 2, 3, 4, 1, 2, 3, 4, 1, 2]\n"
          ]
        },
        {
          "data": {
            "text/plain": [
              "4"
            ]
          },
          "execution_count": 1,
          "metadata": {},
          "output_type": "execute_result"
        }
      ],
      "source": [
        "liste1 = [i % 4 + 1 for i in range(0, 100)]\n",
        "\n",
        "print(len(liste1))\n",
        "print(liste1[0:10])\n",
        "liste1[99]"
      ]
    },
    {
      "cell_type": "markdown",
      "metadata": {
        "id": "YCXaHOf_bmae"
      },
      "source": [
        "En une ligne de code, retournez la liste des nombres pairs présents dans la liste suivante"
      ]
    },
    {
      "cell_type": "code",
      "execution_count": 14,
      "metadata": {
        "id": "KR4zx0C6VsLb"
      },
      "outputs": [
        {
          "data": {
            "text/plain": [
              "[4, 6, 8, 32, 54, 2, 0]"
            ]
          },
          "execution_count": 14,
          "metadata": {},
          "output_type": "execute_result"
        }
      ],
      "source": [
        "liste = [1,25,4,6,8,95,32,65,45,54,1,7,2,0]\n",
        "#\n",
        "liste2 = [i for i in liste if i % 2 == 0]\n",
        "#\n",
        "liste2"
      ]
    },
    {
      "cell_type": "markdown",
      "metadata": {
        "id": "vNaaNkJDVsgr"
      },
      "source": [
        "Ecrire ***en une ligne de code*** un dictionnaire qui attribue à un mot dans une liste son index dans une liste de mots"
      ]
    },
    {
      "cell_type": "code",
      "execution_count": 16,
      "metadata": {
        "id": "L4c-P5VvV7Q1"
      },
      "outputs": [
        {
          "data": {
            "text/plain": [
              "{0: 'chacal', 1: 'renard', 2: 'caribou', 3: 'chat', 4: 'boucanal'}"
            ]
          },
          "execution_count": 16,
          "metadata": {},
          "output_type": "execute_result"
        }
      ],
      "source": [
        "liste = [\"chacal\",\"renard\",\"caribou\",\"chat\",\"boucanal\"]\n",
        "#\n",
        "dict1 = {i: liste[i] for i in range(0, len(liste))}\n",
        "#\n",
        "dict1"
      ]
    },
    {
      "cell_type": "markdown",
      "metadata": {
        "id": "VkcF7fmhapsJ"
      },
      "source": [
        "En **Une seule ligne de code** combinez deux listes de taille égale en un dicitonnaire"
      ]
    },
    {
      "cell_type": "code",
      "execution_count": 17,
      "metadata": {
        "id": "-dc-oog0axkz"
      },
      "outputs": [
        {
          "data": {
            "text/plain": [
              "{'a': 1, 'b': 2, 'c': 3}"
            ]
          },
          "execution_count": 17,
          "metadata": {},
          "output_type": "execute_result"
        }
      ],
      "source": [
        "liste_cles = ['a', 'b', 'c']\n",
        "liste_valeurs = [1, 2, 3]\n",
        "#\n",
        "dict2 = {liste_cles[i]: liste_valeurs[i] for i in range(0, len(liste_cles))}\n",
        "#\n",
        "dict2"
      ]
    }
  ],
  "metadata": {
    "colab": {
      "authorship_tag": "ABX9TyOpHzA7Qc7fs1bYGa14XFcP",
      "include_colab_link": true,
      "provenance": []
    },
    "kernelspec": {
      "display_name": "Python 3",
      "name": "python3"
    },
    "language_info": {
      "codemirror_mode": {
        "name": "ipython",
        "version": 3
      },
      "file_extension": ".py",
      "mimetype": "text/x-python",
      "name": "python",
      "nbconvert_exporter": "python",
      "pygments_lexer": "ipython3",
      "version": "3.10.12"
    }
  },
  "nbformat": 4,
  "nbformat_minor": 0
}
